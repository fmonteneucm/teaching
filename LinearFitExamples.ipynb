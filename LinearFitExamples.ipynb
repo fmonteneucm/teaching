{
 "cells": [
  {
   "cell_type": "code",
   "execution_count": 300,
   "id": "d087f10f-6cc8-4ef5-8f63-10e79f692d79",
   "metadata": {},
   "outputs": [],
   "source": [
    "import numpy as np\n",
    "from sklearn.linear_model import LinearRegression\n",
    "from scipy.optimize import curve_fit\n",
    "import matplotlib.pyplot as plt"
   ]
  },
  {
   "cell_type": "markdown",
   "id": "be3158d1-b9f2-47f5-8922-b633e69c24cb",
   "metadata": {},
   "source": [
    "# Cuaderno Jupyter con diferentes rutinas de hacer un ajuste lineal "
   ]
  },
  {
   "cell_type": "markdown",
   "id": "fb3702c5-e68d-4422-bfca-ce9dd9f9f49d",
   "metadata": {},
   "source": [
    "### Creamos los vectores xdata e ydata de modo que ydata dependa linealmente de xdata, pero con un cierto ruido añadido"
   ]
  },
  {
   "cell_type": "code",
   "execution_count": 301,
   "id": "69678ed2-665c-4206-b3e3-50af04535abd",
   "metadata": {},
   "outputs": [],
   "source": [
    "# Creamos un vector x\n",
    "xdata = np.arange(1,20)\n",
    "\n",
    "# Valores reales de pendiente e intercepto\n",
    "slope_real = 1.5\n",
    "intercept_real = 4.0\n",
    "\n",
    "# Creamos un vector y con estos valores e incluyendo un cierto ruido\n",
    "\n",
    "ynoise = 1*np.random.randn(len(x))\n",
    "ydata = 1.5*xdata + 4 + ynoise\n",
    "\n",
    "# Definimos errores para cada punto, proporcionales al ruido que hemos introducido\n",
    "ydataerr = 1.5*ynoise"
   ]
  },
  {
   "cell_type": "code",
   "execution_count": 302,
   "id": "bbff35b2-21b9-4686-85a1-8a9c905f88d3",
   "metadata": {},
   "outputs": [
    {
     "data": {
      "text/plain": [
       "<ErrorbarContainer object of 3 artists>"
      ]
     },
     "execution_count": 302,
     "metadata": {},
     "output_type": "execute_result"
    },
    {
     "data": {
      "image/png": "[encoded data removed]",
      "text/plain": [
       "<Figure size 720x576 with 1 Axes>"
      ]
     },
     "metadata": {
      "needs_background": "light"
     },
     "output_type": "display_data"
    }
   ],
   "source": [
    "# Visualizamos los puntos\n",
    "plt.figure(figsize=(10,8))\n",
    "plt.errorbar(xdata,ydata,yerr=ydataerr,marker='+',color='red',label='data',ls='')"
   ]
  },
  {
   "cell_type": "markdown",
   "id": "dd917693-8852-46b4-8501-781903ba9c5d",
   "metadata": {},
   "source": [
    "### Modo 1: con scikit-learn LinearRegression\n",
    "https://scikit-learn.org/stable/modules/generated/sklearn.linear_model.LinearRegression.html#sklearn.linear_model.LinearRegression\n",
    "\n",
    "Ajusta un modelo lineal a un conjunto de datos (sin errores) haciendo un ajuste de mínimos cuadrados"
   ]
  },
  {
   "cell_type": "code",
   "execution_count": 303,
   "id": "7cd2801b-64f3-4656-9582-18a7567ccbec",
   "metadata": {},
   "outputs": [],
   "source": [
    "# Esto es necesario porque la función de ajuste espera vectores columna\n",
    "xdataC = xdata.reshape(-1,1)\n",
    "ydataC = ydata.reshape(-1,1)\n",
    "\n",
    "# Creamos el objeto que realiza la regresión lineal\n",
    "linear_regressor = LinearRegression()\n",
    "\n",
    "# Hacemos el ajuste con los datos xdata e ydata\n",
    "linear_regressor.fit(xdataC,ydataC)\n",
    "\n",
    "# Generamos la predicción que el modelo ajustado nos da para x: y_model. Este modelo se evalua en los valores de x\n",
    "y_model1 = linear_regressor.predict(xdataC)\n",
    "\n",
    "# Obtenemos la pendiente\n",
    "slope1 = linear_regressor.coef_[0][0]\n",
    "intercept1 = linear_regressor.intercept_[0]"
   ]
  },
  {
   "cell_type": "code",
   "execution_count": 316,
   "id": "01acd316-56cf-4efa-b93d-041af55f4615",
   "metadata": {},
   "outputs": [
    {
     "name": "stdout",
     "output_type": "stream",
     "text": [
      "Método 1: scikit-learn.LinearRegression()\n",
      "Pendiente =  1.50, Término independiente =  4.00\n"
     ]
    }
   ],
   "source": [
    "# Representamos el resultado y escribimos la pendiente como título del gráfico\n",
    "\n",
    "print('Método 1: scikit-learn.LinearRegression()')\n",
    "print(f'Pendiente = {slope1:5.2f}, Término independiente = {intercept1:5.2f}')\n"
   ]
  },
  {
   "cell_type": "markdown",
   "id": "b3958c2e-cc8d-4f33-b9cd-a14d4e66816b",
   "metadata": {},
   "source": [
    "### Modo 2: con numpy.polyfit()\n",
    "\n",
    "https://numpy.org/doc/stable/reference/generated/numpy.polyfit.html\n",
    "\n",
    "Hace un ajuste de los datos a un polinomio de grado 1. Puede utilizar pesos para cada punto, que este caso igualamos a la inversa de la barra de error.\n",
    "Proporciona la matriz de covarianza cuyos elementos diagonales permiten estimar el error de los coeficientes del ajuste."
   ]
  },
  {
   "cell_type": "code",
   "execution_count": 305,
   "id": "2b2740e3-c7fa-4460-bee5-f2be8303496a",
   "metadata": {},
   "outputs": [],
   "source": [
    "# Otra forma de hacerlo con el paquete numpy.polyfit\n",
    "\n",
    "coeffs, V = np.polyfit(xdata, ydata, 1, w=1/ydataerr, cov='unscaled')\n",
    "\n",
    "# Pendiente y su error\n",
    "slope2 = coeffs[0]\n",
    "err_slope2 = np.sqrt(V[0][0])\n",
    "\n",
    "# Termino independiente y su error\n",
    "intercept2 = coeffs[1]\n",
    "err_intercept2 = np.sqrt(V[1][1])\n",
    "\n",
    "y_model2 = slope2*xdata+intercept2"
   ]
  },
  {
   "cell_type": "code",
   "execution_count": 306,
   "id": "c2c3824b-b0a8-43d3-bf15-060bb8daef04",
   "metadata": {},
   "outputs": [
    {
     "name": "stdout",
     "output_type": "stream",
     "text": [
      "Método 2: scipy.polifit\n",
      "Pendiente =  1.50 ±  0.02, Término independiente =  4.05 ±  0.26\n"
     ]
    }
   ],
   "source": [
    "# Representamos el resultado y escribimos la pendiente como título del gráfico\n",
    "\n",
    "print('Método 2: scipy.polifit')\n",
    "print(f'Pendiente = {slope2:5.2f} ± {err_slope2:5.2f}, Término independiente = {intercept2:5.2f} ± {err_intercept2:5.2f}')\n"
   ]
  },
  {
   "cell_type": "markdown",
   "id": "da60213c-547d-4b90-bf8b-45113712ee43",
   "metadata": {},
   "source": [
    "### Modo 3: con curve_fit de scipy.optimize \n",
    "\n",
    "https://docs.scipy.org/doc/scipy/reference/generated/scipy.optimize.curve_fit.html#scipy.optimize.curve_fit\n",
    "\n",
    "Utiliza un ajuste no lineal a una función f cualquiera. En nuestro caso será una función lineal.\n",
    "Proporciona la matriz de covarianza cuyos elementos diagonales permiten estimar el error de los coeficientes del ajuste."
   ]
  },
  {
   "cell_type": "code",
   "execution_count": 307,
   "id": "d40f5e64-64fa-40c4-b90e-0f26226fff11",
   "metadata": {},
   "outputs": [],
   "source": [
    "# Definimos una función lineal que se necesita como entrada\n",
    "def linearmodel(x,intercept,slope):\n",
    "    y = intercept + slope * x\n",
    "    return y\n",
    "\n",
    "a_fit, cov = curve_fit(linearmodel, xdata, ydata, sigma=ydataerr, absolute_sigma=False)\n",
    "\n",
    "# Pendiente y su error\n",
    "slope3 = a_fit[1]\n",
    "err_slope3 = np.sqrt(cov[1][1])\n",
    "\n",
    "# Termino independiente y su error\n",
    "intercept3 = a_fit[0]\n",
    "err_intercept3 = np.sqrt(cov[0][0])\n",
    "\n",
    "y_model3 = slope3*xdata+intercept3"
   ]
  },
  {
   "cell_type": "code",
   "execution_count": 308,
   "id": "9a7926d8-85c9-47ee-82f5-33f12b1c1c9a",
   "metadata": {},
   "outputs": [
    {
     "name": "stdout",
     "output_type": "stream",
     "text": [
      "Método 3: scipy.curve_fit\n",
      "Pendiente =  1.50 ±  0.02, Término independiente =  4.05 ±  0.18\n"
     ]
    }
   ],
   "source": [
    "# Representamos el resultado y escribimos la pendiente como título del gráfico\n",
    "\n",
    "print('Método 3: scipy.curve_fit')\n",
    "print(f'Pendiente = {slope3:5.2f} ± {err_slope3:5.2f}, Término independiente = {intercept3:5.2f} ± {err_intercept3:5.2f}')\n"
   ]
  },
  {
   "cell_type": "markdown",
   "id": "cb0d069d-659c-423f-a27c-b85175a8e258",
   "metadata": {},
   "source": [
    "### Comparación de los métodos y representación gráfica"
   ]
  },
  {
   "cell_type": "code",
   "execution_count": 314,
   "id": "140c1b67-e7b9-4012-909d-41ee7960c13f",
   "metadata": {},
   "outputs": [
    {
     "name": "stdout",
     "output_type": "stream",
     "text": [
      "Método 1:  Pendiente = 1.50;        Término independiente = 4.00\n",
      "Método 2:  Pendiente = 1.50 ± 0.02; Término independiente = 4.05 ± 0.26\n",
      "Método 3:  Pendiente = 1.50 ± 0.02; Término independiente = 4.05 ± 0.18\n"
     ]
    }
   ],
   "source": [
    "print(f'Método 1:  Pendiente = {slope1:4.2f};        Término independiente = {intercept1:4.2f}')\n",
    "print(f'Método 2:  Pendiente = {slope2:4.2f} ± {err_slope2:4.2f}; Término independiente = {intercept2:4.2f} ± {err_intercept2:4.2f}')\n",
    "print(f'Método 3:  Pendiente = {slope3:4.2f} ± {err_slope3:4.2f}; Término independiente = {intercept3:4.2f} ± {err_intercept3:4.2f}')\n"
   ]
  },
  {
   "cell_type": "code",
   "execution_count": 315,
   "id": "8de7eed7-000b-4116-bf6b-e42200f1b506",
   "metadata": {},
   "outputs": [
    {
     "data": {
      "text/plain": [
       "<matplotlib.legend.Legend at 0x7f82ed6a72b0>"
      ]
     },
     "execution_count": 315,
     "metadata": {},
     "output_type": "execute_result"
    },
    {
     "data": {
      "image/png": "[encoded data removed]",
      "text/plain": [
       "<Figure size 720x576 with 1 Axes>"
      ]
     },
     "metadata": {
      "needs_background": "light"
     },
     "output_type": "display_data"
    }
   ],
   "source": [
    "#Representamos el resultado y escribimos la pendiente como título del gráfico\n",
    "\n",
    "plt.figure(figsize=(10,8))\n",
    "plt.errorbar(xdata,ydata,yerr=ydataerr,marker='+',color='red',label='data',ls='')\n",
    "plt.plot(xdata,y_model1,ls='-',color='blue',label='Fit 1 - sklearn.LinearRegression()')\n",
    "plt.plot(xdata,y_model2,ls='-',color='green',label='Fit 2 - numpy.polyfit')\n",
    "plt.plot(xdata,y_model3,ls='-',color='violet',label='Fit 3 - scipy.curvefit')\n",
    "\n",
    "plt.xlabel('x')\n",
    "plt.ylabel('y')\n",
    "plt.legend()"
   ]
  },
  {
   "cell_type": "code",
   "execution_count": null,
   "id": "1acd1660-8433-47cc-88bf-fe32fbc7c9a0",
   "metadata": {},
   "outputs": [],
   "source": []
  },
  {
   "cell_type": "code",
   "execution_count": null,
   "id": "fa8701a3-711f-4fbe-abed-cd505bebf5d7",
   "metadata": {},
   "outputs": [],
   "source": []
  }
 ],
 "metadata": {
  "kernelspec": {
   "display_name": "Python 3 (ipykernel)",
   "language": "python",
   "name": "python3"
  },
  "language_info": {
   "codemirror_mode": {
    "name": "ipython",
    "version": 3
   },
   "file_extension": ".py",
   "mimetype": "text/x-python",
   "name": "python",
   "nbconvert_exporter": "python",
   "pygments_lexer": "ipython3",
   "version": "3.9.12"
  }
 },
 "nbformat": 4,
 "nbformat_minor": 5
}
